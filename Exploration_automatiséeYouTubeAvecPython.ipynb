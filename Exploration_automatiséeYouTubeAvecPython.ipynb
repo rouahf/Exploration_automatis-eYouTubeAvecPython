{
 "cells": [
  {
   "cell_type": "code",
   "execution_count": 1,
   "id": "7d894d45",
   "metadata": {},
   "outputs": [
    {
     "name": "stdout",
     "output_type": "stream",
     "text": [
      "Note: you may need to restart the kernel to use updated packages.\n"
     ]
    }
   ],
   "source": [
    "pip install --upgrade --quiet youtube_search"
   ]
  },
  {
   "cell_type": "code",
   "execution_count": 2,
   "id": "f803f8cd",
   "metadata": {},
   "outputs": [
    {
     "data": {
      "text/plain": [
       "\"['https://www.youtube.com/watch?v=2o4yTzBVuCI&pp=ygULY2hvdWZsaSBoYWw%3D', 'https://www.youtube.com/watch?v=M_JTni-RolA&pp=ygULY2hvdWZsaSBoYWw%3D', 'https://www.youtube.com/watch?v=_f2ZVE2I2Jg&pp=ygULY2hvdWZsaSBoYWw%3D', 'https://www.youtube.com/watch?v=DnqWhZ98_V4&pp=ygULY2hvdWZsaSBoYWw%3D', 'https://www.youtube.com/watch?v=2zp2ES5ZDQs&pp=ygULY2hvdWZsaSBoYWw%3D']\""
      ]
     },
     "execution_count": 2,
     "metadata": {},
     "output_type": "execute_result"
    }
   ],
   "source": [
    "from langchain_community.tools import YouTubeSearchTool\n",
    "tool = YouTubeSearchTool()\n",
    "tool.run(\"choufli hal\")\n",
    "tool.run(\"choufli hal,5\")"
   ]
  },
  {
   "cell_type": "code",
   "execution_count": 3,
   "id": "f97d9d11",
   "metadata": {},
   "outputs": [
    {
     "name": "stdout",
     "output_type": "stream",
     "text": [
      "Entrez votre recherche sur YouTube (ou 'exit' pour quitter) : choufli hal\n",
      "['https://www.youtube.com/watch?v=2o4yTzBVuCI&pp=ygULY2hvdWZsaSBoYWw%3D', 'https://www.youtube.com/watch?v=M_JTni-RolA&pp=ygULY2hvdWZsaSBoYWw%3D']\n",
      "Entrez votre recherche sur YouTube (ou 'exit' pour quitter) : exit\n"
     ]
    }
   ],
   "source": [
    "from langchain_community.tools import YouTubeSearchTool\n",
    "\n",
    "def main():\n",
    "    tool = YouTubeSearchTool()\n",
    "\n",
    "    while True:\n",
    "        query = input(\"Entrez votre recherche sur YouTube (ou 'exit' pour quitter) : \")\n",
    "        if query.lower() == 'exit':\n",
    "            break\n",
    "\n",
    "        results = tool.run(query)\n",
    "        video_links = results  # Assume que les résultats sont déjà des liens de vidéos\n",
    "        print(video_links)\n",
    "\n",
    "if __name__ == \"__main__\":\n",
    "    main()\n"
   ]
  },
  {
   "cell_type": "code",
   "execution_count": 4,
   "id": "684e3078",
   "metadata": {},
   "outputs": [
    {
     "name": "stdout",
     "output_type": "stream",
     "text": [
      "Entrez votre recherche sur YouTube (ou 'exit' pour quitter) : deep learning\n",
      "['https://www.youtube.com/watch?v=6M5VXKLf4D4&pp=ygUNZGVlcCBsZWFybmluZw%3D%3D', 'https://www.youtube.com/watch?v=aircAruvnKk&pp=ygUNZGVlcCBsZWFybmluZw%3D%3D']\n",
      "Entrez votre recherche sur YouTube (ou 'exit' pour quitter) : obama\n",
      "['https://www.youtube.com/watch?v=CuzLdMPbKl8&pp=ygUFb2JhbWE%3D', 'https://www.youtube.com/watch?v=Np7lObaDiBk&pp=ygUFb2JhbWE%3D']\n",
      "Entrez votre recherche sur YouTube (ou 'exit' pour quitter) : exit\n",
      "\n",
      "Historique des recherches :\n",
      "1. deep learning\n",
      "2. obama\n"
     ]
    }
   ],
   "source": [
    "from langchain_community.tools import YouTubeSearchTool\n",
    "\n",
    "# Initialisation de l'outil de recherche YouTube\n",
    "tool = YouTubeSearchTool()\n",
    "\n",
    "# Liste pour stocker l'historique des recherches\n",
    "history = []\n",
    "\n",
    "def main():\n",
    "    while True:\n",
    "        query = input(\"Entrez votre recherche sur YouTube (ou 'exit' pour quitter) : \")\n",
    "        if query.lower() == 'exit':\n",
    "            break\n",
    "\n",
    "        # Ajouter la requête à l'historique\n",
    "        history.append(query)\n",
    "\n",
    "        try:\n",
    "            results = tool.run(query)\n",
    "            video_links = results  # Supposons que les résultats sont des liens directs\n",
    "            print(video_links)\n",
    "        except Exception as e:\n",
    "            print(f\"Une erreur s'est produite lors de la recherche : {e}\")\n",
    "\n",
    "    print(\"\\nHistorique des recherches :\")\n",
    "    for idx, query in enumerate(history, 1):\n",
    "        print(f\"{idx}. {query}\")\n",
    "\n",
    "if __name__ == \"__main__\":\n",
    "    main()\n"
   ]
  },
  {
   "cell_type": "code",
   "execution_count": null,
   "id": "4c1027e9",
   "metadata": {},
   "outputs": [],
   "source": []
  }
 ],
 "metadata": {
  "kernelspec": {
   "display_name": "Python 3 (ipykernel)",
   "language": "python",
   "name": "python3"
  },
  "language_info": {
   "codemirror_mode": {
    "name": "ipython",
    "version": 3
   },
   "file_extension": ".py",
   "mimetype": "text/x-python",
   "name": "python",
   "nbconvert_exporter": "python",
   "pygments_lexer": "ipython3",
   "version": "3.9.13"
  }
 },
 "nbformat": 4,
 "nbformat_minor": 5
}
